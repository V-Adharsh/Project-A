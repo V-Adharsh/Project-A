{
  "nbformat": 4,
  "nbformat_minor": 0,
  "metadata": {
    "colab": {
      "provenance": [],
      "machine_shape": "hm"
    },
    "kernelspec": {
      "name": "python3",
      "display_name": "Python 3"
    },
    "language_info": {
      "name": "python"
    }
  },
  "cells": [
    {
      "cell_type": "markdown",
      "source": [
        "Import libraries"
      ],
      "metadata": {
        "id": "qfmySHtLZ312"
      }
    },
    {
      "cell_type": "code",
      "execution_count": 1,
      "metadata": {
        "colab": {
          "base_uri": "https://localhost:8080/"
        },
        "id": "PWqoGNH0ylSn",
        "outputId": "e8a4bfab-5cc3-45a4-d5f5-3702a41af85b"
      },
      "outputs": [
        {
          "output_type": "stream",
          "name": "stdout",
          "text": [
            "Mounted at /content/drive\n"
          ]
        }
      ],
      "source": [
        "from google.colab import drive\n",
        "drive.mount('/content/drive')\n",
        "import pandas as pd"
      ]
    },
    {
      "cell_type": "code",
      "source": [
        "import seaborn as sns\n",
        "import matplotlib.pyplot as plt\n",
        "from sklearn.model_selection import train_test_split\n",
        "from sklearn.ensemble import RandomForestClassifier\n",
        "from sklearn.metrics import accuracy_score\n",
        "from sklearn.ensemble import ExtraTreesRegressor\n",
        "from sklearn.metrics import r2_score, mean_squared_error\n",
        "from sklearn.model_selection import train_test_split\n",
        "from sklearn.ensemble import ExtraTreesRegressor\n",
        "from sklearn.model_selection import GridSearchCV, train_test_split\n",
        "from sklearn.metrics import r2_score, mean_squared_error\n",
        "import numpy as np"
      ],
      "metadata": {
        "id": "bDhVK3xUy5gW"
      },
      "execution_count": 3,
      "outputs": []
    },
    {
      "cell_type": "code",
      "source": [
        "df1 = pd.read_csv('/content/drive/MyDrive/finalproject/merged_data.csv')"
      ],
      "metadata": {
        "id": "yTvhOQm_y902"
      },
      "execution_count": 4,
      "outputs": []
    },
    {
      "cell_type": "markdown",
      "source": [
        "Split the data"
      ],
      "metadata": {
        "id": "R4riBr9pZ7WG"
      }
    },
    {
      "cell_type": "code",
      "source": [
        "df2 = df1\n",
        "cols = ['FSO_Att','RFL_Att']\n",
        "x = df2.drop(cols, axis=1)"
      ],
      "metadata": {
        "id": "7--Y8U-5zAC4"
      },
      "execution_count": 5,
      "outputs": []
    },
    {
      "cell_type": "code",
      "source": [
        "y1 = df1['FSO_Att']\n",
        "y2 = df1['RFL_Att']"
      ],
      "metadata": {
        "id": "rJlqAW5KzClO"
      },
      "execution_count": 6,
      "outputs": []
    },
    {
      "cell_type": "code",
      "source": [
        "temp1 = [0, 1, 2, 3, 5, 6, 7, 11, 12, 13, 14, 15, 16, 17, 18, 19, 21, 22]\n",
        "temp2 = [0, 1, 2, 3, 4, 5, 6, 7, 8, 9, 10, 11, 12, 13, 15, 16, 17, 18, 19]\n",
        "x1 = x.iloc[:, temp1]\n",
        "x2 = x.iloc[:, temp2]"
      ],
      "metadata": {
        "id": "41xRMllKzIQT"
      },
      "execution_count": 7,
      "outputs": []
    },
    {
      "cell_type": "markdown",
      "source": [
        "Training and testing the generic method"
      ],
      "metadata": {
        "id": "HlsaGvARZ-5U"
      }
    },
    {
      "cell_type": "code",
      "source": [
        "\n",
        "\n",
        "def eval_reg(X, y, n_estimators=100):\n",
        "    X_train, X_test, y_train, y_test = train_test_split(X, y, test_size=0.25, random_state=42)\n",
        "    model = ExtraTreesRegressor(n_estimators=n_estimators, random_state=42)\n",
        "    model.fit(X_train, y_train)\n",
        "    y_pred = model.predict(X_test)\n",
        "    r2 = r2_score(y_test, y_pred)\n",
        "    rmse = mean_squared_error(y_test, y_pred, squared=False)\n",
        "\n",
        "    return r2, rmse"
      ],
      "metadata": {
        "id": "AOwgwugD0Itn"
      },
      "execution_count": 8,
      "outputs": []
    },
    {
      "cell_type": "code",
      "source": [
        "fso = eval_reg(x1, y1, n_estimators=100)\n",
        "rfo = eval_reg(x2, y2, n_estimators=100)"
      ],
      "metadata": {
        "id": "OqW_Ooon0hT6"
      },
      "execution_count": 9,
      "outputs": []
    },
    {
      "cell_type": "code",
      "source": [
        "print(fso)\n",
        "print(rfo)"
      ],
      "metadata": {
        "colab": {
          "base_uri": "https://localhost:8080/"
        },
        "id": "JKyS82Sy1E5i",
        "outputId": "7b938ad4-0bb5-471d-c1b3-64f98c59d046"
      },
      "execution_count": 10,
      "outputs": [
        {
          "output_type": "stream",
          "name": "stdout",
          "text": [
            "(0.9174150677136512, 1.2952687757525243)\n",
            "(0.9393623908551071, 0.6630436567901958)\n"
          ]
        }
      ]
    },
    {
      "cell_type": "code",
      "source": [
        "fso_r2, fso_rmse = fso\n",
        "rfo_r2, rfo_rmse = rfo\n",
        "\n",
        "labels = ['R²', 'RMSE']\n",
        "fso_values = [fso_r2, fso_rmse]\n",
        "rfo_values = [rfo_r2, rfo_rmse]\n",
        "\n",
        "width = 0.35\n",
        "x = np.arange(len(labels))\n",
        "\n",
        "fig, ax = plt.subplots(figsize=(8, 6))\n",
        "\n",
        "bars1 = ax.bar(x - width/2, fso_values, width, label='FSO', color='blue')\n",
        "bars2 = ax.bar(x + width/2, rfo_values, width, label='RFO', color='orange')\n",
        "\n",
        "ax.set_xlabel('Metrics')\n",
        "ax.set_ylabel('Scores')\n",
        "ax.set_title('Comparison of FSO and RFO Models')\n",
        "ax.set_xticks(x)\n",
        "ax.set_xticklabels(labels)\n",
        "ax.legend()\n",
        "\n",
        "plt.show()"
      ],
      "metadata": {
        "colab": {
          "base_uri": "https://localhost:8080/",
          "height": 564
        },
        "id": "23lJ8wyCoyt8",
        "outputId": "2f3beef2-17fe-439f-c88b-1f25d39ab675"
      },
      "execution_count": 11,
      "outputs": [
        {
          "output_type": "display_data",
          "data": {
            "text/plain": [
              "<Figure size 800x600 with 1 Axes>"
            ],
            "image/png": "[encoded data removed]"
          },
          "metadata": {}
        }
      ]
    },
    {
      "cell_type": "markdown",
      "source": [
        "Hypertuning the model"
      ],
      "metadata": {
        "id": "vofkxCbjaPh5"
      }
    },
    {
      "cell_type": "code",
      "source": [
        "\n",
        "\n",
        "def hypertune(X, y, param_grid, cv=5, n_jobs=-1):\n",
        "    X_train, X_test, y_train, y_test = train_test_split(X, y, test_size=0.25, random_state=42)\n",
        "    model = ExtraTreesRegressor(random_state=42)\n",
        "    grid_search = GridSearchCV(\n",
        "        estimator=model,\n",
        "        param_grid=param_grid,\n",
        "        cv=cv,\n",
        "        n_jobs=n_jobs,\n",
        "        scoring='neg_mean_squared_error',\n",
        "        verbose=2\n",
        "    )\n",
        "    grid_search.fit(X_train, y_train)\n",
        "    best_model = grid_search.best_estimator_\n",
        "    best_params = grid_search.best_params_\n",
        "    best_score = grid_search.best_score_\n",
        "    y_pred = best_model.predict(X_test)\n",
        "    r2 = r2_score(y_test, y_pred)\n",
        "    rmse = mean_squared_error(y_test, y_pred, squared=False)\n",
        "    return best_model, best_params, best_score, r2, rmse\n",
        "param_grid = {\n",
        "    'n_estimators': [50, 100, 200, 300, 400, 500],\n",
        "    'max_depth': [None, 10, 20, 30, 40, 50],\n",
        "    'min_samples_split': [2, 5, 10, 20],\n",
        "    'min_samples_leaf': [1, 2, 5, 10, 20],\n",
        "    'bootstrap': [True, False]\n",
        "}\n",
        "\n",
        "\n"
      ],
      "metadata": {
        "id": "F9fD2Hdk1MC0"
      },
      "execution_count": 17,
      "outputs": []
    },
    {
      "cell_type": "code",
      "source": [
        "fso1 = hypertune(x1, y1, param_grid, cv=5, n_jobs=-1)\n",
        "rfo1 = hypertune(x2, y2, param_grid, cv=5, n_jobs=-1)"
      ],
      "metadata": {
        "colab": {
          "base_uri": "https://localhost:8080/"
        },
        "id": "WEMPmYgO145j",
        "outputId": "f8faa183-b486-46db-b278-5948cf90cc6d"
      },
      "execution_count": 18,
      "outputs": [
        {
          "output_type": "stream",
          "name": "stdout",
          "text": [
            "Fitting 5 folds for each of 1440 candidates, totalling 7200 fits\n",
            "Fitting 5 folds for each of 1440 candidates, totalling 7200 fits\n"
          ]
        }
      ]
    },
    {
      "cell_type": "code",
      "source": [
        "print(fso1)\n",
        "print(rfo1)"
      ],
      "metadata": {
        "colab": {
          "base_uri": "https://localhost:8080/"
        },
        "id": "G7ilorKg5ImJ",
        "outputId": "55548c59-a545-4b2d-b3b9-e17c0cfdd0c5"
      },
      "execution_count": 19,
      "outputs": [
        {
          "output_type": "stream",
          "name": "stdout",
          "text": [
            "(ExtraTreesRegressor(n_estimators=400, random_state=42), {'bootstrap': False, 'max_depth': None, 'min_samples_leaf': 1, 'min_samples_split': 2, 'n_estimators': 400}, -1.4075702461632549, 0.8447406218939243, 1.0609624441518286)\n",
            "(ExtraTreesRegressor(max_depth=20, n_estimators=500, random_state=42), {'bootstrap': False, 'max_depth': 20, 'min_samples_leaf': 1, 'min_samples_split': 2, 'n_estimators': 500}, -0.5823268729199066, 0.937732906913184, 0.6718934163331022)\n"
          ]
        }
      ]
    }
  ]
}