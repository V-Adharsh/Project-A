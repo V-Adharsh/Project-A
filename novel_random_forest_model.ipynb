{
  "nbformat": 4,
  "nbformat_minor": 0,
  "metadata": {
    "colab": {
      "provenance": [],
      "machine_shape": "hm"
    },
    "kernelspec": {
      "name": "python3",
      "display_name": "Python 3"
    },
    "language_info": {
      "name": "python"
    }
  },
  "cells": [
    {
      "cell_type": "markdown",
      "source": [
        "Importing libraries"
      ],
      "metadata": {
        "id": "-jLUMdeyYtng"
      }
    },
    {
      "cell_type": "code",
      "execution_count": 1,
      "metadata": {
        "colab": {
          "base_uri": "https://localhost:8080/"
        },
        "id": "i-y7M5Xh5UkH",
        "outputId": "a5671c66-2a61-4b37-fede-d4409ef0b4a2"
      },
      "outputs": [
        {
          "output_type": "stream",
          "name": "stdout",
          "text": [
            "Mounted at /content/drive\n"
          ]
        }
      ],
      "source": [
        "from google.colab import drive\n",
        "drive.mount('/content/drive')\n",
        "import pandas as pd"
      ]
    },
    {
      "cell_type": "code",
      "source": [
        "import seaborn as sns\n",
        "import matplotlib.pyplot as plt\n",
        "from sklearn.model_selection import train_test_split\n",
        "from sklearn.ensemble import RandomForestClassifier\n",
        "from sklearn.metrics import accuracy_score\n",
        "from sklearn.ensemble import ExtraTreesRegressor\n",
        "from sklearn.metrics import r2_score, mean_squared_error\n",
        "from sklearn.model_selection import train_test_split\n",
        "from sklearn.ensemble import ExtraTreesRegressor\n",
        "from sklearn.model_selection import GridSearchCV, train_test_split\n",
        "from sklearn.metrics import r2_score, mean_squared_error\n",
        "import numpy as np"
      ],
      "metadata": {
        "id": "w3cXvHSC5cUf"
      },
      "execution_count": 15,
      "outputs": []
    },
    {
      "cell_type": "code",
      "source": [
        "df1 = pd.read_csv('/content/drive/MyDrive/finalproject/merged_data.csv')"
      ],
      "metadata": {
        "id": "ltjrGL885hPd"
      },
      "execution_count": 5,
      "outputs": []
    },
    {
      "cell_type": "markdown",
      "source": [
        "Splitting the dataset into 7 seperate dataframe based on the SYNOP Code"
      ],
      "metadata": {
        "id": "ZI4cRaWQYxZJ"
      }
    },
    {
      "cell_type": "code",
      "source": [
        "grouped = df1.groupby('SYNOPCode')\n",
        "dfs = {group: data for group, data in grouped}"
      ],
      "metadata": {
        "id": "4K4K9ka-5yEN"
      },
      "execution_count": 6,
      "outputs": []
    },
    {
      "cell_type": "code",
      "source": [
        "cols = ['FSO_Att','RFL_Att']\n",
        "x0 = dfs[0].drop(cols, axis=1)\n",
        "x3 = dfs[3].drop(cols, axis=1)\n",
        "x4 = dfs[4].drop(cols, axis=1)\n",
        "x5 = dfs[5].drop(cols, axis=1)\n",
        "x6 = dfs[6].drop(cols, axis=1)\n",
        "x7 = dfs[7].drop(cols, axis=1)\n",
        "x8 = dfs[8].drop(cols, axis=1)"
      ],
      "metadata": {
        "id": "KXaa1wNn5j28"
      },
      "execution_count": 7,
      "outputs": []
    },
    {
      "cell_type": "code",
      "source": [
        "y00 = dfs[0]['FSO_Att']\n",
        "y03 = dfs[3]['FSO_Att']\n",
        "y04 = dfs[4]['FSO_Att']\n",
        "y05 = dfs[5]['FSO_Att']\n",
        "y06 = dfs[6]['FSO_Att']\n",
        "y07 = dfs[7]['FSO_Att']\n",
        "y08 = dfs[8]['FSO_Att']\n",
        "y10 = dfs[0]['RFL_Att']\n",
        "y13 = dfs[3]['RFL_Att']\n",
        "y14 = dfs[4]['RFL_Att']\n",
        "y15 = dfs[5]['RFL_Att']\n",
        "y16 = dfs[6]['RFL_Att']\n",
        "y17 = dfs[7]['RFL_Att']\n",
        "y18 = dfs[8]['RFL_Att']"
      ],
      "metadata": {
        "id": "nUXz2vyf5mQq"
      },
      "execution_count": 8,
      "outputs": []
    },
    {
      "cell_type": "code",
      "source": [
        "temp1 = [0, 1, 2, 3, 5, 6, 7, 11, 12, 13, 14, 15, 16, 17, 18, 19, 21, 22]\n",
        "temp2 = [0, 1, 2, 3, 4, 5, 6, 7, 8, 9, 10, 11, 12, 13, 15, 16, 17, 18, 19]\n",
        "x10 = x0.iloc[:, temp1]\n",
        "x13 = x3.iloc[:, temp1]\n",
        "x14 = x4.iloc[:, temp1]\n",
        "x15 = x5.iloc[:, temp1]\n",
        "x16 = x6.iloc[:, temp1]\n",
        "x17 = x7.iloc[:, temp1]\n",
        "x18 = x8.iloc[:, temp1]\n",
        "x20 = x0.iloc[:, temp2]\n",
        "x23 = x3.iloc[:, temp2]\n",
        "x24 = x4.iloc[:, temp2]\n",
        "x25 = x5.iloc[:, temp2]\n",
        "x26 = x6.iloc[:, temp2]\n",
        "x27 = x7.iloc[:, temp2]\n",
        "x28 = x8.iloc[:, temp2]"
      ],
      "metadata": {
        "id": "GIjYU1cM5okD"
      },
      "execution_count": 9,
      "outputs": []
    },
    {
      "cell_type": "markdown",
      "source": [
        "Training and testing the models seperately"
      ],
      "metadata": {
        "id": "aYuDv3oXZCq8"
      }
    },
    {
      "cell_type": "code",
      "source": [
        "\n",
        "\n",
        "def eval_reg(X, y, n_estimators=100):\n",
        "    X_train, X_test, y_train, y_test = train_test_split(X, y, test_size=0.25, random_state=42)\n",
        "    model = ExtraTreesRegressor(n_estimators=n_estimators, random_state=42)\n",
        "    model.fit(X_train, y_train)\n",
        "    y_pred = model.predict(X_test)\n",
        "    r2 = r2_score(y_test, y_pred)\n",
        "    rmse = mean_squared_error(y_test, y_pred, squared=False)\n",
        "\n",
        "    return r2, rmse"
      ],
      "metadata": {
        "id": "wGnW-sSN5tcf"
      },
      "execution_count": 10,
      "outputs": []
    },
    {
      "cell_type": "code",
      "source": [
        "fso0 = eval_reg(x10, y00, n_estimators=100)\n",
        "fso3 = eval_reg(x13, y03, n_estimators=100)\n",
        "fso4 = eval_reg(x14, y04, n_estimators=100)\n",
        "fso5 = eval_reg(x15, y05, n_estimators=100)\n",
        "fso6 = eval_reg(x16, y06, n_estimators=100)\n",
        "fso7 = eval_reg(x17, y07, n_estimators=100)\n",
        "fso8 = eval_reg(x18, y08, n_estimators=100)\n",
        "rfo0 = eval_reg(x20, y10, n_estimators=100)\n",
        "rfo3 = eval_reg(x23, y13, n_estimators=100)\n",
        "rfo4 = eval_reg(x24, y14, n_estimators=100)\n",
        "rfo5 = eval_reg(x25, y15, n_estimators=100)\n",
        "rfo6 = eval_reg(x26, y16, n_estimators=100)\n",
        "rfo7 = eval_reg(x27, y17, n_estimators=100)\n",
        "rfo8 = eval_reg(x28, y18, n_estimators=100)"
      ],
      "metadata": {
        "id": "cu5RQ8oU-Km7"
      },
      "execution_count": 11,
      "outputs": []
    },
    {
      "cell_type": "code",
      "source": [
        "print(fso0)\n",
        "print(fso3)\n",
        "print(fso4)\n",
        "print(fso5)\n",
        "print(fso6)\n",
        "print(fso7)\n",
        "print(fso8)\n",
        "print(rfo0)\n",
        "print(rfo3)\n",
        "print(rfo4)\n",
        "print(rfo5)\n",
        "print(rfo6)\n",
        "print(rfo7)\n",
        "print(rfo8)"
      ],
      "metadata": {
        "colab": {
          "base_uri": "https://localhost:8080/"
        },
        "id": "REECb0IY-39k",
        "outputId": "a52e13fc-cb6e-432e-d7a7-a0b3809b2256"
      },
      "execution_count": 12,
      "outputs": [
        {
          "output_type": "stream",
          "name": "stdout",
          "text": [
            "(0.720909906362657, 2.1603267709201726)\n",
            "(0.983337311440146, 1.1952291896447738)\n",
            "(0.948166936496379, 0.8896238563175976)\n",
            "(0.8220822716403361, 1.373027070602623)\n",
            "(0.8179939752323224, 1.4213560600437563)\n",
            "(0.9050282182357041, 1.2484279540944991)\n",
            "(0.7923712455804458, 1.3087104370235612)\n",
            "(0.9042424316782341, 0.6117044863871486)\n",
            "(0.9932574882149602, 0.26454654879325573)\n",
            "(0.9371370988557948, 0.5099160002205262)\n",
            "(0.9464763701321925, 0.5891742119222501)\n",
            "(0.9120707783983093, 1.007989079128927)\n",
            "(0.9231645242938934, 0.25350255972258595)\n",
            "(0.8979995810482008, 0.724336546913935)\n"
          ]
        }
      ]
    },
    {
      "cell_type": "code",
      "source": [
        "fso_results = [fso0, fso3, fso4, fso5, fso6, fso7, fso8]\n",
        "rfo_results = [rfo0, rfo3, rfo4, rfo5, rfo6, rfo7, rfo8]\n",
        "labels = ['fso0', 'fso3', 'fso4', 'fso5', 'fso6', 'fso7', 'fso8']\n",
        "fso_r2 = [result[0] for result in fso_results]\n",
        "fso_rmse = [result[1] for result in fso_results]\n",
        "rfo_r2 = [result[0] for result in rfo_results]\n",
        "rfo_rmse = [result[1] for result in rfo_results]\n",
        "\n",
        "x = np.arange(len(labels))\n",
        "width = 0.35\n",
        "\n",
        "fig, ax1 = plt.subplots(figsize=(12, 6))\n",
        "\n",
        "bars1 = ax1.bar(x - width/2, fso_r2, width, label='FSO R²', color='blue')\n",
        "bars2 = ax1.bar(x + width/2, rfo_r2, width, label='RFO R²', color='cyan')\n",
        "\n",
        "ax1.set_xlabel('Dataset')\n",
        "ax1.set_ylabel('R²')\n",
        "ax1.set_title('R² and RMSE Comparison Across Datasets')\n",
        "ax1.set_xticks(x)\n",
        "ax1.set_xticklabels(labels)\n",
        "ax1.legend(loc='upper left')\n",
        "ax2 = ax1.twinx()\n",
        "bars3 = ax2.bar(x - width/2, fso_rmse, width, alpha=0.3, label='FSO RMSE', color='red')\n",
        "bars4 = ax2.bar(x + width/2, rfo_rmse, width, alpha=0.3, label='RFO RMSE', color='orange')\n",
        "\n",
        "ax2.set_ylabel('RMSE')\n",
        "ax2.legend(loc='upper right')\n",
        "\n",
        "plt.show()"
      ],
      "metadata": {
        "colab": {
          "base_uri": "https://localhost:8080/",
          "height": 564
        },
        "id": "PZMNx8DonnP-",
        "outputId": "6cc29305-aecc-4a97-906a-8ac4dec5b59c"
      },
      "execution_count": 16,
      "outputs": [
        {
          "output_type": "display_data",
          "data": {
            "text/plain": [
              "<Figure size 1200x600 with 2 Axes>"
            ],
            "image/png": "[encoded data removed]"
          },
          "metadata": {}
        }
      ]
    },
    {
      "cell_type": "markdown",
      "source": [
        "Performing Hyperparameter Tuning"
      ],
      "metadata": {
        "id": "4pw_xYZZZHC-"
      }
    },
    {
      "cell_type": "code",
      "source": [
        "\n",
        "\n",
        "def hypertune(X, y, param_grid, cv=5, n_jobs=-1):\n",
        "    X_train, X_test, y_train, y_test = train_test_split(X, y, test_size=0.25, random_state=42)\n",
        "    model = ExtraTreesRegressor(random_state=42)\n",
        "    grid_search = GridSearchCV(\n",
        "        estimator=model,\n",
        "        param_grid=param_grid,\n",
        "        cv=cv,\n",
        "        n_jobs=n_jobs,\n",
        "        scoring='neg_mean_squared_error',\n",
        "        verbose=2\n",
        "    )\n",
        "    grid_search.fit(X_train, y_train)\n",
        "    best_model = grid_search.best_estimator_\n",
        "    best_params = grid_search.best_params_\n",
        "    best_score = grid_search.best_score_\n",
        "    y_pred = best_model.predict(X_test)\n",
        "    r2 = r2_score(y_test, y_pred)\n",
        "    rmse = mean_squared_error(y_test, y_pred, squared=False)\n",
        "\n",
        "    return best_model, best_params, best_score, r2, rmse\n",
        "\n",
        "param_grid = {\n",
        "    'n_estimators': [50, 100, 200, 300, 400, 500],\n",
        "    'max_depth': [None, 10, 20, 30, 40, 50],\n",
        "    'min_samples_split': [2, 5, 10, 20],\n",
        "    'min_samples_leaf': [1, 2, 5, 10, 20],\n",
        "    'bootstrap': [True, False]\n",
        "}\n"
      ],
      "metadata": {
        "id": "fNSIVwCH_Gb9"
      },
      "execution_count": 19,
      "outputs": []
    },
    {
      "cell_type": "code",
      "source": [
        "fs10 = hypertune(x10, y00, param_grid)\n",
        "fs13 = hypertune(x13, y03, param_grid)\n",
        "fs14 = hypertune(x14, y04, param_grid)\n",
        "fs15 = hypertune(x15, y05, param_grid)\n",
        "fs16 = hypertune(x16, y06, param_grid)\n",
        "fs17 = hypertune(x17, y07, param_grid)\n",
        "fs18 = hypertune(x18, y08, param_grid)\n",
        "rf10 = hypertune(x20, y10, param_grid)\n",
        "rf13 = hypertune(x23, y13, param_grid)\n",
        "rf14 = hypertune(x24, y14, param_grid)\n",
        "rf15 = hypertune(x25, y15, param_grid)\n",
        "rf16 = hypertune(x26, y16, param_grid)\n",
        "rf17 = hypertune(x27, y17, param_grid)\n",
        "rf18 = hypertune(x28, y18, param_grid)"
      ],
      "metadata": {
        "colab": {
          "base_uri": "https://localhost:8080/"
        },
        "id": "XaXt9sRe_L5b",
        "outputId": "5531d3f0-20fd-4edb-aa8d-4a7fbf590a5f"
      },
      "execution_count": 22,
      "outputs": [
        {
          "output_type": "stream",
          "name": "stdout",
          "text": [
            "Fitting 5 folds for each of 1440 candidates, totalling 7200 fits\n",
            "Fitting 5 folds for each of 1440 candidates, totalling 7200 fits\n",
            "Fitting 5 folds for each of 1440 candidates, totalling 7200 fits\n",
            "Fitting 5 folds for each of 1440 candidates, totalling 7200 fits\n",
            "Fitting 5 folds for each of 1440 candidates, totalling 7200 fits\n",
            "Fitting 5 folds for each of 1440 candidates, totalling 7200 fits\n",
            "Fitting 5 folds for each of 1440 candidates, totalling 7200 fits\n",
            "Fitting 5 folds for each of 1440 candidates, totalling 7200 fits\n",
            "Fitting 5 folds for each of 1440 candidates, totalling 7200 fits\n",
            "Fitting 5 folds for each of 1440 candidates, totalling 7200 fits\n",
            "Fitting 5 folds for each of 1440 candidates, totalling 7200 fits\n",
            "Fitting 5 folds for each of 1440 candidates, totalling 7200 fits\n",
            "Fitting 5 folds for each of 1440 candidates, totalling 7200 fits\n",
            "Fitting 5 folds for each of 1440 candidates, totalling 7200 fits\n"
          ]
        }
      ]
    },
    {
      "cell_type": "code",
      "source": [
        "print(fs10)\n",
        "print(fs13)\n",
        "print(fs14)\n",
        "print(fs15)\n",
        "print(fs16)\n",
        "print(fs17)\n",
        "print(fs18)\n",
        "print(rf10)\n",
        "print(rf13)\n",
        "print(rf14)\n",
        "print(rf15)\n",
        "print(rf16)\n",
        "print(rf17)\n",
        "print(rf18)"
      ],
      "metadata": {
        "colab": {
          "base_uri": "https://localhost:8080/"
        },
        "id": "ifBjukmyAN6C",
        "outputId": "bf623647-bc24-43b5-c2a7-e4b6694585b9"
      },
      "execution_count": 23,
      "outputs": [
        {
          "output_type": "stream",
          "name": "stdout",
          "text": [
            "(ExtraTreesRegressor(bootstrap=True, min_samples_split=5, n_estimators=50,\n",
            "                    random_state=42), {'bootstrap': True, 'max_depth': None, 'min_samples_leaf': 1, 'min_samples_split': 5, 'n_estimators': 50}, -2.49000554077895, 0.6884148819006357, 2.282630364680601)\n",
            "(ExtraTreesRegressor(max_depth=10, n_estimators=400, random_state=42), {'bootstrap': False, 'max_depth': 10, 'min_samples_leaf': 1, 'min_samples_split': 2, 'n_estimators': 400}, -1.1688224219786851, 0.9805630766005132, 1.2908994444133313)\n",
            "(ExtraTreesRegressor(n_estimators=50, random_state=42), {'bootstrap': False, 'max_depth': None, 'min_samples_leaf': 1, 'min_samples_split': 2, 'n_estimators': 50}, -0.9312842854614743, 0.9434487946879477, 0.9292314806670487)\n",
            "(ExtraTreesRegressor(bootstrap=True, max_depth=10, min_samples_leaf=2,\n",
            "                    min_samples_split=5, n_estimators=200, random_state=42), {'bootstrap': True, 'max_depth': 10, 'min_samples_leaf': 2, 'min_samples_split': 5, 'n_estimators': 200}, -2.7101486751825603, 0.8344620980988541, 1.3243970680912234)\n",
            "(ExtraTreesRegressor(min_samples_leaf=2, random_state=42), {'bootstrap': False, 'max_depth': None, 'min_samples_leaf': 2, 'min_samples_split': 2, 'n_estimators': 100}, -3.4728024725212903, 0.8089992744294964, 1.4560541010145083)\n",
            "(ExtraTreesRegressor(max_depth=10, random_state=42), {'bootstrap': False, 'max_depth': 10, 'min_samples_leaf': 1, 'min_samples_split': 2, 'n_estimators': 100}, -0.993648983670721, 0.9014717931251526, 1.2715881767634756)\n",
            "(ExtraTreesRegressor(bootstrap=True, max_depth=10, min_samples_split=5,\n",
            "                    n_estimators=50, random_state=42), {'bootstrap': True, 'max_depth': 10, 'min_samples_leaf': 1, 'min_samples_split': 5, 'n_estimators': 50}, -4.026637235276732, 0.7747972504414369, 1.362971142879882)\n",
            "(ExtraTreesRegressor(n_estimators=200, random_state=42), {'bootstrap': False, 'max_depth': None, 'min_samples_leaf': 1, 'min_samples_split': 2, 'n_estimators': 200}, -0.6613507354538788, 0.8932277918774452, 0.6459281672090685)\n",
            "(ExtraTreesRegressor(bootstrap=True, max_depth=10, min_samples_split=5,\n",
            "                    n_estimators=200, random_state=42), {'bootstrap': True, 'max_depth': 10, 'min_samples_leaf': 1, 'min_samples_split': 5, 'n_estimators': 200}, -0.3361635156162313, 0.9905372368172219, 0.3134008924468293)\n",
            "(ExtraTreesRegressor(min_samples_leaf=2, random_state=42), {'bootstrap': False, 'max_depth': None, 'min_samples_leaf': 2, 'min_samples_split': 2, 'n_estimators': 100}, -0.19874285413638537, 0.9372865778926038, 0.5093093855380065)\n",
            "(ExtraTreesRegressor(min_samples_split=5, n_estimators=50, random_state=42), {'bootstrap': False, 'max_depth': None, 'min_samples_leaf': 1, 'min_samples_split': 5, 'n_estimators': 50}, -0.7563540295405222, 0.9421729876426546, 0.6124016155002293)\n",
            "(ExtraTreesRegressor(min_samples_split=5, n_estimators=50, random_state=42), {'bootstrap': False, 'max_depth': None, 'min_samples_leaf': 1, 'min_samples_split': 5, 'n_estimators': 50}, -2.530356880213672, 0.9147706194065356, 0.9923934260055824)\n",
            "(ExtraTreesRegressor(max_depth=10, min_samples_leaf=2, n_estimators=500,\n",
            "                    random_state=42), {'bootstrap': False, 'max_depth': 10, 'min_samples_leaf': 2, 'min_samples_split': 2, 'n_estimators': 500}, -0.10609677275578595, 0.9177163401372513, 0.2623362202145556)\n",
            "(ExtraTreesRegressor(bootstrap=True, max_depth=10, n_estimators=50,\n",
            "                    random_state=42), {'bootstrap': True, 'max_depth': 10, 'min_samples_leaf': 1, 'min_samples_split': 2, 'n_estimators': 50}, -0.8645470165031657, 0.8814226844451796, 0.7809805673219548)\n"
          ]
        }
      ]
    }
  ]
}